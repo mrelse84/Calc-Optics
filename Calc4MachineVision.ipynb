{
 "cells": [
  {
   "cell_type": "markdown",
   "id": "b343a74c",
   "metadata": {},
   "source": [
    "# Calculations for Machine Vision"
   ]
  },
  {
   "cell_type": "markdown",
   "id": "61e904bf",
   "metadata": {},
   "source": [
    "요구 사항이 다음과 같다고 하자.  \n",
    "검사 대상의 크기 : 가로 40mm x 세로 40mm  \n",
    "검사(검출)해야하는 최소 불량 크기 : 40um  \n",
    "검사 대상으로부터 카메라 렌즈 끝단까지의 거리 : 100 ~ 200mm 사이 * 이 것은 검사 환경의 제약에 의해 요구되는 것으로 WD(Working Distance)라고 한다."
   ]
  },
  {
   "cell_type": "markdown",
   "id": "25ef01ed",
   "metadata": {},
   "source": [
    "## 1. 필요 분해능\n",
    "최소 불량 크기를 40um라고 하자. 그러면 그 것을 검출하기 위해서는 일반적으로 최소 2보다 큰 수로 나눈 분해능이 필요하다.  \n",
    "(여기서 2에 해당하는 값을 MR이라 부르는데, 최소 값이 2가 되는 것은 나이키스트 샘플링 이론에 근거한다.)"
   ]
  },
  {
   "cell_type": "code",
   "execution_count": 1,
   "id": "2e99e5bd",
   "metadata": {},
   "outputs": [],
   "source": [
    "resol = 20 # 이것은 카메라(이미지 센서)의 한 픽셀이 보는 크기이므로 PSS(Pixel Sampling Size)라고도 한다."
   ]
  },
  {
   "cell_type": "markdown",
   "id": "11480a68",
   "metadata": {},
   "source": [
    "## 2. 카메라(이미지 센서)의 선택"
   ]
  },
  {
   "cell_type": "markdown",
   "id": "36b4eaa6",
   "metadata": {},
   "source": [
    "## 2.1 카메라의 화면 해상도"
   ]
  },
  {
   "cell_type": "code",
   "execution_count": 2,
   "id": "234315cc",
   "metadata": {},
   "outputs": [],
   "source": [
    "# 카메라 해상도 = 검사 대상의 크기(40000) / 필요 분해능(20)\n",
    "min_cam_resol = 40000 / 20 # 2000 pixels\n",
    "# 머신 비전 카메라 중 5Mega Mono(화면 해상도 : 2448x2048)를 선택하자.\n",
    "cam_resol_x = 2448\n",
    "cam_resol_y = 2048"
   ]
  },
  {
   "cell_type": "markdown",
   "id": "6fb670ca",
   "metadata": {},
   "source": [
    "## 2.2 카메라(이미지 센서)의 픽셀 크기"
   ]
  },
  {
   "cell_type": "code",
   "execution_count": 3,
   "id": "dfb91412",
   "metadata": {},
   "outputs": [
    {
     "data": {
      "text/plain": [
       "3.5947712418300655"
      ]
     },
     "execution_count": 3,
     "metadata": {},
     "output_type": "execute_result"
    }
   ],
   "source": [
    "# 일반적으로, 머신 비전에서 많이 사용하는 이미지 센서의 크기는 1/2\", 2/3\", 1/3\", 1/4\" 등 이다.\n",
    "# 여기서는 2/3\"를 선택한다. (가로 8.8mm x 세로 6.6mm. 대각선 11mm임)\n",
    "cam_pixel_size = 8.8 * 1000 / cam_resol_x # [um]\n",
    "# 또는, cam_pixel_size = 6.6 * 1000 / cam_resol_y # [um]\n",
    "cam_pixel_size"
   ]
  },
  {
   "cell_type": "markdown",
   "id": "efd960a9",
   "metadata": {},
   "source": [
    "## 3. Lens의 선택"
   ]
  },
  {
   "cell_type": "markdown",
   "id": "dcb26c7b",
   "metadata": {},
   "source": [
    "## 3.1 배율(m)\n",
    "a : 물체에서 렌즈까지의 거리  \n",
    "b : 렌즈에서 상(Image)까지의 거리  \n",
    "m : 배율 (m = b/a)"
   ]
  },
  {
   "cell_type": "code",
   "execution_count": 4,
   "id": "ea907b5b",
   "metadata": {},
   "outputs": [
    {
     "data": {
      "text/plain": [
       "0.17973856209150327"
      ]
     },
     "execution_count": 4,
     "metadata": {},
     "output_type": "execute_result"
    }
   ],
   "source": [
    "m = cam_pixel_size / resol\n",
    "m"
   ]
  },
  {
   "cell_type": "markdown",
   "id": "58b07b39",
   "metadata": {},
   "source": [
    "## 3.2 초점거리(f)"
   ]
  },
  {
   "cell_type": "code",
   "execution_count": 11,
   "id": "61775ac9",
   "metadata": {},
   "outputs": [],
   "source": [
    "# 렌즈의 공식 (1/a + 1/ b = 1/f)로 부터 f = a(m/(1+m))이 유도된다.\n",
    "# 또한, a = k*f라고 하면 (즉 a를 f의 몇 배 거리로 나타낼 때) k = (1+m)/m이 유도된다."
   ]
  },
  {
   "cell_type": "code",
   "execution_count": 5,
   "id": "12350c43",
   "metadata": {},
   "outputs": [
    {
     "data": {
      "text/plain": [
       "6.5636363636363635"
      ]
     },
     "execution_count": 5,
     "metadata": {},
     "output_type": "execute_result"
    }
   ],
   "source": [
    "k = (1+m) / m\n",
    "k # k는 a가 f의 몇 배인지를 나타냄"
   ]
  },
  {
   "cell_type": "code",
   "execution_count": 6,
   "id": "c8c4ee7c",
   "metadata": {},
   "outputs": [
    {
     "data": {
      "text/plain": [
       "30.555555555555557"
      ]
     },
     "execution_count": 6,
     "metadata": {},
     "output_type": "execute_result"
    }
   ],
   "source": [
    "# 또한, 대략적으로 m = f / WD가 되므로, f = m * WD 로 구할 수 있다.\n",
    "# WD는 100 ~ 200 사이라는 요구 사항에 맞게 선택한다. 여기서는 170으로 한다.\n",
    "WD = 170 # [mm]\n",
    "f = m * WD # [mm]\n",
    "f"
   ]
  },
  {
   "cell_type": "code",
   "execution_count": 8,
   "id": "56cc2902",
   "metadata": {},
   "outputs": [
    {
     "data": {
      "text/plain": [
       "200.55555555555557"
      ]
     },
     "execution_count": 8,
     "metadata": {},
     "output_type": "execute_result"
    }
   ],
   "source": [
    "# a(물체에서 렌즈까지의 거리)는 WD보다 길다. 따라서 경통의 길이 정도를 더해준다.\n",
    "a = k * f\n",
    "a"
   ]
  },
  {
   "cell_type": "code",
   "execution_count": 9,
   "id": "2ff98572",
   "metadata": {},
   "outputs": [
    {
     "data": {
      "text/plain": [
       "36.04756717501816"
      ]
     },
     "execution_count": 9,
     "metadata": {},
     "output_type": "execute_result"
    }
   ],
   "source": [
    "b = a * m\n",
    "b"
   ]
  },
  {
   "cell_type": "markdown",
   "id": "61fc327d",
   "metadata": {},
   "source": [
    "f는 약 30.6mm, b는 약 36.0mm로 상(Image)이 초점보다 뒤에 생기는 것을 알 수 있다."
   ]
  },
  {
   "cell_type": "markdown",
   "id": "9ce47c47",
   "metadata": {},
   "source": [
    "## 3.3 렌즈의 NA와 분해능\n",
    "NA (Numerical Aperture)  \n",
    "Lens Resolution : $R = k\\frac{\\lambda}{NA}$"
   ]
  },
  {
   "cell_type": "code",
   "execution_count": 10,
   "id": "bae71dbc",
   "metadata": {},
   "outputs": [],
   "source": [
    "# 렌즈는 NA가 제작 사영으로 정해진다.\n",
    "# NA가 0.017인 렌즈를 선택했다고 하자."
   ]
  },
  {
   "cell_type": "code",
   "execution_count": 11,
   "id": "5eb434e2",
   "metadata": {},
   "outputs": [],
   "source": [
    "NA = 0.017"
   ]
  },
  {
   "cell_type": "code",
   "execution_count": 12,
   "id": "a54f95c7",
   "metadata": {},
   "outputs": [
    {
     "data": {
      "text/plain": [
       "19.41176470588235"
      ]
     },
     "execution_count": 12,
     "metadata": {},
     "output_type": "execute_result"
    }
   ],
   "source": [
    "# 렌즈의 분해능은 다음과 같다.\n",
    "# Lens Resol = k*lambda/NA (k는 렌즈의 특성 상수(보통 0.6), lambda는 빛의 파장인데, 보통 녹색광(550[nm])를 기준으로 한다.)\n",
    "lens_resol = 0.6 * 0.55 / NA\n",
    "lens_resol"
   ]
  },
  {
   "cell_type": "markdown",
   "id": "91c0e863",
   "metadata": {},
   "source": [
    "렌즈의 분해능이 약 19.4[um]로 필요 분해능(reol = 20[um])보다 작게 나왔다. (실제로는 이 조건에 맞는 NA를 가진 렌즈를 선택하는 것임)  \n",
    "만약 필요 분해능보다 크게 나온다면 그 렌즈는 사용할 수 없다."
   ]
  },
  {
   "cell_type": "markdown",
   "id": "934eb341",
   "metadata": {},
   "source": [
    "## 3.4 렌즈의 EA와 F#\n",
    "EA (Effective Aperture) : $EA = \\frac{n\\cdot m}{2\\cdot NA}$  \n",
    "F# (F Number) : $F\\# = \\frac{f}{D} = \\frac{EA}{(1+m)}$"
   ]
  },
  {
   "cell_type": "code",
   "execution_count": 13,
   "id": "5463197f",
   "metadata": {},
   "outputs": [
    {
     "data": {
      "text/plain": [
       "5.28642829680892"
      ]
     },
     "execution_count": 13,
     "metadata": {},
     "output_type": "execute_result"
    }
   ],
   "source": [
    "EA = 1 * m / (2 * NA)\n",
    "EA"
   ]
  },
  {
   "cell_type": "code",
   "execution_count": 14,
   "id": "06b4eec8",
   "metadata": {},
   "outputs": [
    {
     "data": {
      "text/plain": [
       "4.481016783444679"
      ]
     },
     "execution_count": 14,
     "metadata": {},
     "output_type": "execute_result"
    }
   ],
   "source": [
    "Fnum = EA / (1 + m)\n",
    "Fnum"
   ]
  },
  {
   "cell_type": "code",
   "execution_count": 15,
   "id": "a1deab0c",
   "metadata": {},
   "outputs": [
    {
     "data": {
      "text/plain": [
       "6.81888888888889"
      ]
     },
     "execution_count": 15,
     "metadata": {},
     "output_type": "execute_result"
    }
   ],
   "source": [
    "D = f / Fnum\n",
    "D"
   ]
  },
  {
   "cell_type": "markdown",
   "id": "b7435823",
   "metadata": {},
   "source": [
    "## 3.5 렌즈의 초점심도(DOF)\n",
    "DOF (Depth Of Focus) : $DOF = \\frac{2\\cdot CC \\cdot EA}{m^2}$ "
   ]
  },
  {
   "cell_type": "code",
   "execution_count": 16,
   "id": "faacc468",
   "metadata": {},
   "outputs": [
    {
     "data": {
      "text/plain": [
       "6545.454545454546"
      ]
     },
     "execution_count": 16,
     "metadata": {},
     "output_type": "execute_result"
    }
   ],
   "source": [
    "DOF = 2 * resol * EA / m**2\n",
    "DOF"
   ]
  },
  {
   "cell_type": "markdown",
   "id": "ee4027b8",
   "metadata": {},
   "source": [
    "DOF가 약 6.5[mm]가 나왔다. 이 것은 검사 대상이 WD인 170[mm]보다 +/-3.25[mm] 정도의 위치 편차가 있어도 포커스가 맞는다는 의미이다."
   ]
  },
  {
   "cell_type": "code",
   "execution_count": null,
   "id": "d89cc4dc",
   "metadata": {},
   "outputs": [],
   "source": []
  }
 ],
 "metadata": {
  "kernelspec": {
   "display_name": "Python 3 (ipykernel)",
   "language": "python",
   "name": "python3"
  },
  "language_info": {
   "codemirror_mode": {
    "name": "ipython",
    "version": 3
   },
   "file_extension": ".py",
   "mimetype": "text/x-python",
   "name": "python",
   "nbconvert_exporter": "python",
   "pygments_lexer": "ipython3",
   "version": "3.7.8"
  }
 },
 "nbformat": 4,
 "nbformat_minor": 5
}
